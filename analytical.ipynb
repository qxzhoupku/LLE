{
 "cells": [
  {
   "cell_type": "markdown",
   "metadata": {},
   "source": [
    "soliton existence boundry:\n",
    "$${\\zeta_0}_{max} = \\frac{1}{8} \\pi^2 f^2$$\n",
    "$$\\psi = \\frac{64}{\\pi^4 f^3} - i\\frac{8}{\\pi^2f} + \\frac{1}{2} \\pi f \\ \\mathrm{sech}{(\\sqrt{\\frac{\\pi^2 f^2}{8 d_2}} \\phi)}$$\n",
    "$$\\widetilde{\\psi}(m) = \\frac{64}{\\pi^4 f^3} - i\\frac{8}{\\pi^2f} + \\sqrt{d_2 / 2} \\ \\mathrm{sech}(\\sqrt{2d_2}m/f)$$\n",
    "$$P_{out} = (\\sqrt{P_{in}} - \\sqrt{\\frac{\\kappa_{ext}\\kappa\\hbar\\omega_0}{2g}} \\psi)^2$$\n"
   ]
  },
  {
   "cell_type": "code",
   "execution_count": null,
   "metadata": {},
   "outputs": [],
   "source": [
    "# Modules import\n",
    "import numpy as np\n",
    "import sys\n",
    "import time\n",
    "from numba import jit, objmode\n",
    "import ipywidgets as widgets\n",
    "import matplotlib.pyplot as plt\n",
    "from matplotlib.gridspec import GridSpec\n",
    "from IPython import display"
   ]
  },
  {
   "cell_type": "code",
   "execution_count": null,
   "metadata": {},
   "outputs": [],
   "source": [
    "# Parameters\n",
    "mode_number = 2**16\n",
    "# d_2 = 0.001\n",
    "# Q_0 = 30e6\n",
    "# Q_e = 5e6\n",
    "# FSR = 500e9\n",
    "P_in = 500e-3\n",
    "\n",
    "list_d_2 = np.linspace(0.1, 1, 1)\n",
    "list_Q_0 = np.linspace(30e6, 40e6, 1)\n",
    "list_Q_e = np.linspace(0.4e6, 0.5e6, 10)\n",
    "list_FSR = np.linspace(50e9, 1000e9, 1)\n"
   ]
  },
  {
   "cell_type": "code",
   "execution_count": null,
   "metadata": {},
   "outputs": [],
   "source": [
    "# Constants\n",
    "c_0 = 3e8\n",
    "h_bar = 6.626e-34 / (2 * np.pi)\n",
    "lambda_0 = 1550e-9\n",
    "n_0 = 2.00\n",
    "n_2 = 22e-20\n",
    "thick = 0.8e-6\n",
    "width = 1.8e-6\n",
    "\n",
    "f_0 = c_0 / lambda_0\n",
    "omega_0 = 2 * np.pi * f_0\n"
   ]
  },
  {
   "cell_type": "code",
   "execution_count": null,
   "metadata": {},
   "outputs": [],
   "source": [
    "# Calculation\n",
    "xs = np.arange(-mode_number / 2, mode_number / 2, dtype=np.complex128)\n",
    "xs_freq = np.arange(-mode_number / 2, mode_number / 2, dtype=np.complex128)\n",
    "\n",
    "\n",
    "def output(d_2, Q_0, Q_e, FSR, P_in):\n",
    "    Q = 1 / (1 / Q_0 + 1 / Q_e)\n",
    "    kappa_0 = omega_0 / Q_0\n",
    "    kappa_e = omega_0 / Q_e\n",
    "    kappa = kappa_0 + kappa_e\n",
    "    eta = kappa_e / kappa\n",
    "    V_eff = c_0 / n_0 / FSR * width * thick\n",
    "    g = h_bar * omega_0**2 * c_0 * n_2 / n_0**2 / V_eff\n",
    "    P_th = (h_bar * omega_0 * kappa**2) / (8 * eta * g)\n",
    "    f = np.sqrt(P_in / P_th)\n",
    "\n",
    "    A = 64/(np.pi**4 * f**3) - 1j*8/(np.pi**2 * f) + 0.5 * np.pi * f * 1 / np.cosh(np.sqrt((np.pi**2 * f**2) / (8 * d_2)) * xs / mode_number * 2*np.pi)\n",
    "    # A_freq_fft = np.fft.fftshift(np.fft.fft(A)) / mode_number\n",
    "    A_freq = np.sqrt(0.5*d_2) / np.cosh(xs_freq * np.sqrt(2*d_2) / f)\n",
    "    A_freq[mode_number//2] += 64/(np.pi**4 * f**3) - 1j*8/(np.pi**2 * f)\n",
    "\n",
    "    E_out = np.sqrt(P_in) - np.sqrt(kappa_e) * np.sqrt(kappa/2/g) * A * np.sqrt(h_bar * omega_0)\n",
    "    freq_out = -np.sqrt(kappa_e) * np.sqrt(kappa/2/g) * A_freq * np.sqrt(h_bar * omega_0)\n",
    "    freq_out[mode_number//2] += np.sqrt(P_in)\n",
    "    return freq_out\n",
    "\n",
    "# plt.figure()\n",
    "# plt.title(\"time domain\")\n",
    "# plt.plot(xs[::mode_number//2**8], np.abs(A)[::mode_number//2**8])\n",
    "# plt.show()\n",
    "\n",
    "# plt.figure()\n",
    "# plt.title(\"frequency domain\")\n",
    "# # plt.plot(xs[mode_number//2 - 2**7:mode_number//2 + 2**7:1], np.abs(A_freq_fft)[mode_number//2 - 2**7:mode_number//2 + 2**7:1], label='FFT')\n",
    "# plt.plot(xs_freq[mode_number//2 - 2**7:mode_number//2 + 2**7:1], np.abs(A_freq)[mode_number//2 - 2**7:mode_number//2 + 2**7:1], label='Analytical')\n",
    "# plt.legend()\n",
    "# plt.show()\n",
    "\n",
    "# plt.figure()\n",
    "# plt.plot(np.abs(E_out)**2, label=\"output\", alpha=0.7)\n",
    "# plt.legend()\n",
    "# plt.title(\"Output power waveform\")\n",
    "# plt.xlabel(\"intra-cavity slice\")\n",
    "# plt.ylabel(\"Power\")\n",
    "# plt.ylim(0, 1.2 * np.max(np.abs(E_out)**2))\n",
    "# plt.show()\n",
    "\n",
    "\n",
    "plt.figure()\n",
    "for d_2 in list_d_2:\n",
    "    for Q_0 in list_Q_0:\n",
    "        for Q_e in list_Q_e:\n",
    "            for FSR in list_FSR:\n",
    "                plt.plot(xs_freq[mode_number//2 - 2**7:mode_number//2 + 2**7:1], np.abs(output(d_2, Q_0, Q_e, FSR, P_in)**2)[mode_number//2 - 2**7:mode_number//2 + 2**7:1], label=f\"{d_2}, {\"%.1f\" % (Q_0/10**6)}M, {\"%.2f\" % (Q_e/10**6)}M, {FSR/10**9}G\", alpha=0.7)\n",
    "plt.legend(fontsize=7)\n",
    "plt.title(\"Output spectrum\")\n",
    "plt.xlabel(\"Frequency\")\n",
    "plt.ylabel(\"Power\")\n",
    "plt.yscale(\"log\")\n",
    "plt.show()\n"
   ]
  },
  {
   "cell_type": "code",
   "execution_count": null,
   "metadata": {},
   "outputs": [],
   "source": [
    "def ratio(d_2, Q_0, Q_e, FSR):\n",
    "    spectrum = np.abs(output(d_2, Q_0, Q_e, FSR, P_in)**2)\n",
    "    ratio = 1 - spectrum[mode_number//2] / np.sum(spectrum)\n",
    "    return ratio\n",
    "\n",
    "for d_2 in list_d_2:\n",
    "    for Q_0 in list_Q_0:\n",
    "        for Q_e in list_Q_e:\n",
    "            for FSR in list_FSR:\n",
    "                print(f\"d_2 = {d_2}, Q_0 = {\"%.2f\" % (Q_0/10**6)}M, Q_e = {\"%.2f\" % (Q_e/10**6)}M, FSR = {FSR/10**9}G, ratio = {\"%.4f\" % (ratio(d_2, Q_0, Q_e, FSR))}\")\n"
   ]
  }
 ],
 "metadata": {
  "kernelspec": {
   "display_name": "Python 3",
   "language": "python",
   "name": "python3"
  },
  "language_info": {
   "codemirror_mode": {
    "name": "ipython",
    "version": 3
   },
   "file_extension": ".py",
   "mimetype": "text/x-python",
   "name": "python",
   "nbconvert_exporter": "python",
   "pygments_lexer": "ipython3",
   "version": "3.12.0"
  }
 },
 "nbformat": 4,
 "nbformat_minor": 2
}
