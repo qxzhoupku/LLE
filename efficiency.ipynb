{
 "cells": [
  {
   "cell_type": "markdown",
   "metadata": {},
   "source": [
    "normalized LLE:\n",
    "$$\\frac{\\partial a}{\\partial \\tau} = -(1 + i\\zeta) a + i|a|^2 a + id_2 \\frac{\\partial^2 a}{\\partial \\phi^2} + f $$\n",
    "$$\\tau = \\kappa t/2,\\ \\zeta = 2(\\omega_0 - \\omega_p)/\\kappa,\\ d_2 = D_2/\\kappa,\\ a = \\sqrt{2g/\\kappa} A$$\n",
    "$$g = \\frac{\\hbar {\\omega_0}^2 c_0 n_2}{{n_g}^2 V_{\\mathrm{eff}}},~f = \\sqrt{\\frac{P_{\\mathrm{in}}}{P_{\\mathrm{th}}}} = \\sqrt{\\frac{8\\eta g P_{\\mathrm{in}}}{\\hbar \\omega_0 \\kappa^2}}$$\n",
    "\n",
    "soliton existence boundry:\n",
    "$$\\zeta_{0, \\mathrm{max}} = \\frac{1}{8} \\pi^2 f^2$$\n",
    "$$\\zeta_{0, \\mathrm{min}} = \\sqrt{3}$$\n",
    "approximate single soliton solution:\n",
    "$$\\psi = \\frac{64}{\\pi^4 f^3} - i\\frac{8}{\\pi^2f} + \\frac{1}{2} \\pi f \\ \\mathrm{sech}{(\\sqrt{\\frac{\\pi^2 f^2}{8 d_2}} \\phi)},~\\mathrm{at~max~detuning}$$\n",
    "$$\\psi = \\Sigma_m \\  \\widetilde{\\psi}(m) \\exp(im\\phi)$$\n",
    "$$\\widetilde{\\psi}(m) = \\int_{-\\pi}^{\\pi} \\psi \\exp(-im\\phi) \\frac{1}{2\\pi} d\\phi $$\n",
    "$$\\widetilde{\\psi}(m = 0) = \\frac{64}{\\pi^4 f^3} - i\\frac{8}{\\pi^2f} + \\sqrt{d_2 / 2}$$\n",
    "$$\\widetilde{\\psi}(m \\neq 0) = \\sqrt{d_2 / 2} \\ \\mathrm{sech}(m\\sqrt{2d_2}/f)$$\n",
    "$$P_{NL} = \\frac{\\eta \\kappa^2 \\hbar \\omega_0}{2g} \\Sigma_{m\\neq 0} \\ 2\\pi {|\\widetilde{\\psi}(m)|}^2 = 2\\pi^2 \\sqrt{\\frac{|\\beta_2|}{\\gamma}} \\sqrt{FSR * P_{in}} \\ \\frac{\\kappa_{ext}^{\\frac{3}{2}}}{\\kappa_0 + \\kappa_{ext}}$$\n",
    "$$\\zeta_{0, \\mathrm{max}} \\geq \\zeta_{0, \\mathrm{min}}:~P_{in} \\geq \\frac{\\sqrt{3}}{\\pi^2} \\frac{\\alpha^2 c}{n_g \\gamma} \\frac{1}{FSR} \\frac{1}{(1-\\eta)^2 \\eta}$$\n",
    "$$\\mathrm{ratio} = \\frac{P_{NL}}{P_{in}} = 2\\pi^2 \\sqrt{\\frac{|\\beta_2| \\alpha c}{\\gamma n_g}} \\sqrt{\\frac{FSR}{P_{in}}} \\sqrt{\\frac{\\eta^3}{1-\\eta}} \\leq \\frac{2}{3^{1/4}} \\pi^3 \\sqrt{\\frac{|\\beta_2|}{\\alpha}} FSR \\sqrt{1-\\eta}~\\eta^3$$\n",
    "$$\\mathrm{ratio} \\leq 18.24 \\sqrt{\\frac{|\\beta_2|}{\\alpha}} FSR,~\\mathrm{max~at~} \\eta = 6/7$$\n",
    "considering typical value: $\\beta_2 = -70.4~ps^2/km,~\\alpha = 2.9m^{-1},~FSR = 100GHz.~ratio = 30\\%$\n",
    "<!-- $$P_{out} = (\\sqrt{P_{in}} - \\sqrt{\\frac{\\kappa_{ext}\\kappa\\hbar\\omega_0}{2g}} \\psi)^2$$ -->\n"
   ]
  },
  {
   "cell_type": "code",
   "execution_count": null,
   "metadata": {},
   "outputs": [],
   "source": [
    "# Modules import\n",
    "import numpy as np\n",
    "import matplotlib.pyplot as plt\n"
   ]
  },
  {
   "cell_type": "code",
   "execution_count": null,
   "metadata": {},
   "outputs": [],
   "source": [
    "# Constants\n",
    "c_0 = 3e8\n",
    "h_bar = 6.626e-34 / (2 * np.pi)\n",
    "lambda_0 = 1550e-9\n",
    "n_0 = 2.00\n",
    "n_g = 2.00 #???\n",
    "n_2 = 22e-20\n",
    "beta_1 = n_g / c_0\n",
    "beta_2 = -70.4e-27\n",
    "thick = 0.8e-6\n",
    "width = 1.8e-6\n",
    "A_eff = thick * width\n",
    "f_0 = c_0 / lambda_0\n",
    "omega_0 = 2 * np.pi * f_0\n",
    "gamma = omega_0 * n_2 / (c_0 * A_eff)\n"
   ]
  },
  {
   "cell_type": "code",
   "execution_count": null,
   "metadata": {},
   "outputs": [],
   "source": [
    "# Parameters\n",
    "mode_number = 2**12\n",
    "\n",
    "alpha = 2.9\n",
    "kappa_0 = alpha * c_0 / n_g\n",
    "kappa_e = kappa_0\n",
    "kappa = kappa_0 + kappa_e\n",
    "Q_0 = omega_0 / kappa_0\n",
    "Q_e = omega_0 / kappa_e\n",
    "FSR = 100e9\n",
    "L_c = c_0 / n_g / FSR\n",
    "D_1 = 2 * np.pi * FSR\n",
    "D_2 = -beta_2 * D_1**2 / beta_1\n",
    "d_2 = D_2 / kappa\n",
    "eta = kappa_e / kappa\n",
    "P_in = np.sqrt(3) / np.pi**2 * alpha**2 * c_0 / n_g / gamma / FSR / (1 - eta)**2 / eta\n",
    "\n",
    "\n",
    "print('P_in = %.2fmW' % (P_in * 1e3))\n",
    "print('d_2 = %.3e' % d_2)\n",
    "print('Q_0 = %.2fM' % (Q_0 / 1e6))\n",
    "print('Q_e = %.2fM' % (Q_e / 1e6))\n",
    "print('FSR = %.2fGHz' % (FSR / 1e9))\n"
   ]
  },
  {
   "cell_type": "code",
   "execution_count": null,
   "metadata": {},
   "outputs": [],
   "source": [
    "# Calculation\n",
    "xs = np.arange(-mode_number / 2, mode_number / 2, dtype=np.complex128)\n",
    "xs_freq = np.arange(-mode_number / 2, mode_number / 2, dtype=np.complex128)\n",
    "\n",
    "\n",
    "def output(d_2, Q_0, Q_e, FSR, P_in):\n",
    "    Q = 1 / (1 / Q_0 + 1 / Q_e)\n",
    "    kappa_0 = omega_0 / Q_0\n",
    "    kappa_e = omega_0 / Q_e\n",
    "    kappa = kappa_0 + kappa_e\n",
    "    eta = kappa_e / kappa\n",
    "    g = h_bar * omega_0 * gamma * L_c * FSR**2\n",
    "    P_th = (h_bar * omega_0 * kappa**2) / (8 * eta * g)\n",
    "    f = np.sqrt(P_in / P_th)\n",
    "    A_freq = np.sqrt(0.5*d_2) / np.cosh(xs_freq * np.sqrt(2*d_2) / f)\n",
    "    A_freq[mode_number//2] += 64/(np.pi**4 * f**3) - 1j*8/(np.pi**2 * f)\n",
    "    freq_out = -np.sqrt(kappa_e) * np.sqrt(kappa/2/g) * A_freq * np.sqrt(h_bar * omega_0)\n",
    "    freq_out[mode_number//2] += np.sqrt(P_in)\n",
    "    return freq_out\n",
    "\n",
    "\n",
    "def ratio(d_2, Q_0, Q_e, FSR, P_in):\n",
    "    spectrum = np.abs(output(d_2, Q_0, Q_e, FSR, P_in)**2)\n",
    "    ratio = 1 - spectrum[mode_number//2] / P_in\n",
    "    return ratio\n",
    "\n",
    "\n",
    "plt.figure()\n",
    "window = 2**4\n",
    "plt.plot(np.real(xs_freq[mode_number//2 - window:mode_number//2 + window:1]), np.abs(output(d_2, Q_0, Q_e, FSR, P_in)**2)[mode_number//2 - window:mode_number//2 + window:1], label=f\"{\"%.2fmW\" % (P_in * 1e3)}, {\"%.3e\" % d_2}, {\"%.1f\" % (Q_0/10**6)}M, {\"%.2f\" % (Q_e/10**6)}M, {FSR/10**9}G\", alpha=0.7)\n",
    "plt.legend(fontsize=7)\n",
    "plt.title(\"Output spectrum\")\n",
    "plt.xlabel(\"Frequency\")\n",
    "plt.ylabel(\"Power\")\n",
    "plt.yscale(\"log\")\n",
    "plt.show()\n",
    "\n",
    "print(f\"P_in = {\"%.2fmW\" % (P_in * 1e3)}, d_2 = {\"%.3e\" % d_2}, Q_0 = {\"%.2f\" % (Q_0/10**6)}M, Q_e = {\"%.2f\" % (Q_e/10**6)}M, FSR = {FSR/10**9}G, ratio = {\"%.4f\" % (ratio(d_2, Q_0, Q_e, FSR, P_in))}\")\n"
   ]
  }
 ],
 "metadata": {
  "kernelspec": {
   "display_name": "Python 3",
   "language": "python",
   "name": "python3"
  },
  "language_info": {
   "codemirror_mode": {
    "name": "ipython",
    "version": 3
   },
   "file_extension": ".py",
   "mimetype": "text/x-python",
   "name": "python",
   "nbconvert_exporter": "python",
   "pygments_lexer": "ipython3",
   "version": "3.12.0"
  }
 },
 "nbformat": 4,
 "nbformat_minor": 2
}
